{
 "cells": [
  {
   "cell_type": "code",
   "execution_count": 3,
   "id": "552b5998-ac3a-41ae-a385-af6c8254ff14",
   "metadata": {
    "scrolled": true
   },
   "outputs": [
    {
     "name": "stdout",
     "output_type": "stream",
     "text": [
      "Requirement already satisfied: langchain in c:\\users\\sujit\\desktop\\ms_nlp\\245\\project\\env\\lib\\site-packages (0.1.12)\n",
      "Requirement already satisfied: openai in c:\\users\\sujit\\desktop\\ms_nlp\\245\\project\\env\\lib\\site-packages (1.14.1)\n",
      "Requirement already satisfied: duckduckgo-search in c:\\users\\sujit\\desktop\\ms_nlp\\245\\project\\env\\lib\\site-packages (5.1.0)\n",
      "Requirement already satisfied: youtube_search in c:\\users\\sujit\\desktop\\ms_nlp\\245\\project\\env\\lib\\site-packages (2.1.2)\n",
      "Requirement already satisfied: wikipedia in c:\\users\\sujit\\desktop\\ms_nlp\\245\\project\\env\\lib\\site-packages (1.4.0)\n",
      "Requirement already satisfied: langchainhub in c:\\users\\sujit\\desktop\\ms_nlp\\245\\project\\env\\lib\\site-packages (0.1.15)\n",
      "Requirement already satisfied: PyYAML>=5.3 in c:\\users\\sujit\\desktop\\ms_nlp\\245\\project\\env\\lib\\site-packages (from langchain) (6.0.1)\n",
      "Requirement already satisfied: SQLAlchemy<3,>=1.4 in c:\\users\\sujit\\desktop\\ms_nlp\\245\\project\\env\\lib\\site-packages (from langchain) (2.0.28)\n",
      "Requirement already satisfied: aiohttp<4.0.0,>=3.8.3 in c:\\users\\sujit\\desktop\\ms_nlp\\245\\project\\env\\lib\\site-packages (from langchain) (3.9.3)\n",
      "Requirement already satisfied: async-timeout<5.0.0,>=4.0.0 in c:\\users\\sujit\\desktop\\ms_nlp\\245\\project\\env\\lib\\site-packages (from langchain) (4.0.3)\n",
      "Requirement already satisfied: dataclasses-json<0.7,>=0.5.7 in c:\\users\\sujit\\desktop\\ms_nlp\\245\\project\\env\\lib\\site-packages (from langchain) (0.6.4)\n",
      "Requirement already satisfied: jsonpatch<2.0,>=1.33 in c:\\users\\sujit\\desktop\\ms_nlp\\245\\project\\env\\lib\\site-packages (from langchain) (1.33)\n",
      "Requirement already satisfied: langchain-community<0.1,>=0.0.28 in c:\\users\\sujit\\desktop\\ms_nlp\\245\\project\\env\\lib\\site-packages (from langchain) (0.0.28)\n",
      "Requirement already satisfied: langchain-core<0.2.0,>=0.1.31 in c:\\users\\sujit\\desktop\\ms_nlp\\245\\project\\env\\lib\\site-packages (from langchain) (0.1.32)\n",
      "Requirement already satisfied: langchain-text-splitters<0.1,>=0.0.1 in c:\\users\\sujit\\desktop\\ms_nlp\\245\\project\\env\\lib\\site-packages (from langchain) (0.0.1)\n",
      "Requirement already satisfied: langsmith<0.2.0,>=0.1.17 in c:\\users\\sujit\\desktop\\ms_nlp\\245\\project\\env\\lib\\site-packages (from langchain) (0.1.27)\n",
      "Requirement already satisfied: numpy<2,>=1 in c:\\users\\sujit\\desktop\\ms_nlp\\245\\project\\env\\lib\\site-packages (from langchain) (1.24.4)\n",
      "Requirement already satisfied: pydantic<3,>=1 in c:\\users\\sujit\\desktop\\ms_nlp\\245\\project\\env\\lib\\site-packages (from langchain) (2.6.4)\n",
      "Requirement already satisfied: requests<3,>=2 in c:\\users\\sujit\\desktop\\ms_nlp\\245\\project\\env\\lib\\site-packages (from langchain) (2.31.0)\n",
      "Requirement already satisfied: tenacity<9.0.0,>=8.1.0 in c:\\users\\sujit\\desktop\\ms_nlp\\245\\project\\env\\lib\\site-packages (from langchain) (8.2.3)\n",
      "Requirement already satisfied: anyio<5,>=3.5.0 in c:\\users\\sujit\\desktop\\ms_nlp\\245\\project\\env\\lib\\site-packages (from openai) (4.3.0)\n",
      "Requirement already satisfied: distro<2,>=1.7.0 in c:\\users\\sujit\\desktop\\ms_nlp\\245\\project\\env\\lib\\site-packages (from openai) (1.9.0)\n",
      "Requirement already satisfied: httpx<1,>=0.23.0 in c:\\users\\sujit\\desktop\\ms_nlp\\245\\project\\env\\lib\\site-packages (from openai) (0.27.0)\n",
      "Requirement already satisfied: sniffio in c:\\users\\sujit\\desktop\\ms_nlp\\245\\project\\env\\lib\\site-packages (from openai) (1.3.1)\n",
      "Requirement already satisfied: tqdm>4 in c:\\users\\sujit\\desktop\\ms_nlp\\245\\project\\env\\lib\\site-packages (from openai) (4.66.2)\n",
      "Requirement already satisfied: typing-extensions<5,>=4.7 in c:\\users\\sujit\\desktop\\ms_nlp\\245\\project\\env\\lib\\site-packages (from openai) (4.10.0)\n",
      "Requirement already satisfied: click>=8.1.7 in c:\\users\\sujit\\desktop\\ms_nlp\\245\\project\\env\\lib\\site-packages (from duckduckgo-search) (8.1.7)\n",
      "Requirement already satisfied: curl-cffi>=0.6.2 in c:\\users\\sujit\\desktop\\ms_nlp\\245\\project\\env\\lib\\site-packages (from duckduckgo-search) (0.6.2)\n",
      "Requirement already satisfied: lxml>=5.1.0 in c:\\users\\sujit\\desktop\\ms_nlp\\245\\project\\env\\lib\\site-packages (from duckduckgo-search) (5.1.0)\n",
      "Requirement already satisfied: beautifulsoup4 in c:\\users\\sujit\\desktop\\ms_nlp\\245\\project\\env\\lib\\site-packages (from wikipedia) (4.12.3)\n",
      "Requirement already satisfied: types-requests<3.0.0.0,>=2.31.0.2 in c:\\users\\sujit\\desktop\\ms_nlp\\245\\project\\env\\lib\\site-packages (from langchainhub) (2.31.0.20240311)\n",
      "Requirement already satisfied: aiosignal>=1.1.2 in c:\\users\\sujit\\desktop\\ms_nlp\\245\\project\\env\\lib\\site-packages (from aiohttp<4.0.0,>=3.8.3->langchain) (1.3.1)\n",
      "Requirement already satisfied: attrs>=17.3.0 in c:\\users\\sujit\\desktop\\ms_nlp\\245\\project\\env\\lib\\site-packages (from aiohttp<4.0.0,>=3.8.3->langchain) (23.2.0)\n",
      "Requirement already satisfied: frozenlist>=1.1.1 in c:\\users\\sujit\\desktop\\ms_nlp\\245\\project\\env\\lib\\site-packages (from aiohttp<4.0.0,>=3.8.3->langchain) (1.4.1)\n",
      "Requirement already satisfied: multidict<7.0,>=4.5 in c:\\users\\sujit\\desktop\\ms_nlp\\245\\project\\env\\lib\\site-packages (from aiohttp<4.0.0,>=3.8.3->langchain) (6.0.5)\n",
      "Requirement already satisfied: yarl<2.0,>=1.0 in c:\\users\\sujit\\desktop\\ms_nlp\\245\\project\\env\\lib\\site-packages (from aiohttp<4.0.0,>=3.8.3->langchain) (1.9.4)\n",
      "Requirement already satisfied: idna>=2.8 in c:\\users\\sujit\\desktop\\ms_nlp\\245\\project\\env\\lib\\site-packages (from anyio<5,>=3.5.0->openai) (3.6)\n",
      "Requirement already satisfied: exceptiongroup>=1.0.2 in c:\\users\\sujit\\desktop\\ms_nlp\\245\\project\\env\\lib\\site-packages (from anyio<5,>=3.5.0->openai) (1.2.0)\n",
      "Requirement already satisfied: colorama in c:\\users\\sujit\\desktop\\ms_nlp\\245\\project\\env\\lib\\site-packages (from click>=8.1.7->duckduckgo-search) (0.4.6)\n",
      "Requirement already satisfied: cffi>=1.12.0 in c:\\users\\sujit\\desktop\\ms_nlp\\245\\project\\env\\lib\\site-packages (from curl-cffi>=0.6.2->duckduckgo-search) (1.16.0)\n",
      "Requirement already satisfied: certifi in c:\\users\\sujit\\desktop\\ms_nlp\\245\\project\\env\\lib\\site-packages (from curl-cffi>=0.6.2->duckduckgo-search) (2024.2.2)\n",
      "Requirement already satisfied: marshmallow<4.0.0,>=3.18.0 in c:\\users\\sujit\\desktop\\ms_nlp\\245\\project\\env\\lib\\site-packages (from dataclasses-json<0.7,>=0.5.7->langchain) (3.21.1)\n",
      "Requirement already satisfied: typing-inspect<1,>=0.4.0 in c:\\users\\sujit\\desktop\\ms_nlp\\245\\project\\env\\lib\\site-packages (from dataclasses-json<0.7,>=0.5.7->langchain) (0.9.0)\n",
      "Requirement already satisfied: httpcore==1.* in c:\\users\\sujit\\desktop\\ms_nlp\\245\\project\\env\\lib\\site-packages (from httpx<1,>=0.23.0->openai) (1.0.4)\n",
      "Requirement already satisfied: h11<0.15,>=0.13 in c:\\users\\sujit\\desktop\\ms_nlp\\245\\project\\env\\lib\\site-packages (from httpcore==1.*->httpx<1,>=0.23.0->openai) (0.14.0)\n",
      "Requirement already satisfied: jsonpointer>=1.9 in c:\\users\\sujit\\desktop\\ms_nlp\\245\\project\\env\\lib\\site-packages (from jsonpatch<2.0,>=1.33->langchain) (2.4)\n",
      "Requirement already satisfied: packaging<24.0,>=23.2 in c:\\users\\sujit\\desktop\\ms_nlp\\245\\project\\env\\lib\\site-packages (from langchain-core<0.2.0,>=0.1.31->langchain) (23.2)\n",
      "Requirement already satisfied: orjson<4.0.0,>=3.9.14 in c:\\users\\sujit\\desktop\\ms_nlp\\245\\project\\env\\lib\\site-packages (from langsmith<0.2.0,>=0.1.17->langchain) (3.9.15)\n",
      "Requirement already satisfied: annotated-types>=0.4.0 in c:\\users\\sujit\\desktop\\ms_nlp\\245\\project\\env\\lib\\site-packages (from pydantic<3,>=1->langchain) (0.6.0)\n",
      "Requirement already satisfied: pydantic-core==2.16.3 in c:\\users\\sujit\\desktop\\ms_nlp\\245\\project\\env\\lib\\site-packages (from pydantic<3,>=1->langchain) (2.16.3)\n",
      "Requirement already satisfied: charset-normalizer<4,>=2 in c:\\users\\sujit\\desktop\\ms_nlp\\245\\project\\env\\lib\\site-packages (from requests<3,>=2->langchain) (3.3.2)\n",
      "Requirement already satisfied: urllib3<3,>=1.21.1 in c:\\users\\sujit\\desktop\\ms_nlp\\245\\project\\env\\lib\\site-packages (from requests<3,>=2->langchain) (2.2.1)\n",
      "Requirement already satisfied: greenlet!=0.4.17 in c:\\users\\sujit\\desktop\\ms_nlp\\245\\project\\env\\lib\\site-packages (from SQLAlchemy<3,>=1.4->langchain) (3.0.3)\n",
      "Requirement already satisfied: soupsieve>1.2 in c:\\users\\sujit\\desktop\\ms_nlp\\245\\project\\env\\lib\\site-packages (from beautifulsoup4->wikipedia) (2.5)\n",
      "Requirement already satisfied: pycparser in c:\\users\\sujit\\desktop\\ms_nlp\\245\\project\\env\\lib\\site-packages (from cffi>=1.12.0->curl-cffi>=0.6.2->duckduckgo-search) (2.21)\n",
      "Requirement already satisfied: mypy-extensions>=0.3.0 in c:\\users\\sujit\\desktop\\ms_nlp\\245\\project\\env\\lib\\site-packages (from typing-inspect<1,>=0.4.0->dataclasses-json<0.7,>=0.5.7->langchain) (1.0.0)\n"
     ]
    },
    {
     "name": "stderr",
     "output_type": "stream",
     "text": [
      "\n",
      "[notice] A new release of pip is available: 23.3.1 -> 24.0\n",
      "[notice] To update, run: python.exe -m pip install --upgrade pip\n"
     ]
    }
   ],
   "source": [
    "!pip install langchain openai duckduckgo-search youtube_search wikipedia langchainhub"
   ]
  },
  {
   "cell_type": "code",
   "execution_count": 11,
   "id": "ac9b4abf-f0af-47d5-a5d5-d36dbf39cc0c",
   "metadata": {
    "scrolled": true
   },
   "outputs": [
    {
     "name": "stdout",
     "output_type": "stream",
     "text": [
      "Collecting gradio==3.43.1\n",
      "  Downloading gradio-3.43.1-py3-none-any.whl.metadata (17 kB)\n",
      "Requirement already satisfied: aiofiles<24.0,>=22.0 in c:\\users\\sujit\\desktop\\ms_nlp\\245\\project\\env\\lib\\site-packages (from gradio==3.43.1) (23.2.1)\n",
      "Requirement already satisfied: altair<6.0,>=4.2.0 in c:\\users\\sujit\\desktop\\ms_nlp\\245\\project\\env\\lib\\site-packages (from gradio==3.43.1) (5.2.0)\n",
      "Requirement already satisfied: fastapi in c:\\users\\sujit\\desktop\\ms_nlp\\245\\project\\env\\lib\\site-packages (from gradio==3.43.1) (0.110.0)\n",
      "Requirement already satisfied: ffmpy in c:\\users\\sujit\\desktop\\ms_nlp\\245\\project\\env\\lib\\site-packages (from gradio==3.43.1) (0.3.2)\n",
      "Collecting gradio-client==0.5.0 (from gradio==3.43.1)\n",
      "  Downloading gradio_client-0.5.0-py3-none-any.whl.metadata (7.1 kB)\n",
      "Requirement already satisfied: httpx in c:\\users\\sujit\\desktop\\ms_nlp\\245\\project\\env\\lib\\site-packages (from gradio==3.43.1) (0.27.0)\n",
      "Requirement already satisfied: huggingface-hub>=0.14.0 in c:\\users\\sujit\\desktop\\ms_nlp\\245\\project\\env\\lib\\site-packages (from gradio==3.43.1) (0.21.4)\n",
      "Requirement already satisfied: importlib-resources<7.0,>=1.3 in c:\\users\\sujit\\desktop\\ms_nlp\\245\\project\\env\\lib\\site-packages (from gradio==3.43.1) (6.3.1)\n",
      "Requirement already satisfied: jinja2<4.0 in c:\\users\\sujit\\desktop\\ms_nlp\\245\\project\\env\\lib\\site-packages (from gradio==3.43.1) (3.1.3)\n",
      "Requirement already satisfied: markupsafe~=2.0 in c:\\users\\sujit\\desktop\\ms_nlp\\245\\project\\env\\lib\\site-packages (from gradio==3.43.1) (2.1.5)\n",
      "Requirement already satisfied: matplotlib~=3.0 in c:\\users\\sujit\\desktop\\ms_nlp\\245\\project\\env\\lib\\site-packages (from gradio==3.43.1) (3.7.5)\n",
      "Requirement already satisfied: numpy~=1.0 in c:\\users\\sujit\\desktop\\ms_nlp\\245\\project\\env\\lib\\site-packages (from gradio==3.43.1) (1.24.4)\n",
      "Requirement already satisfied: orjson~=3.0 in c:\\users\\sujit\\desktop\\ms_nlp\\245\\project\\env\\lib\\site-packages (from gradio==3.43.1) (3.9.15)\n",
      "Requirement already satisfied: packaging in c:\\users\\sujit\\desktop\\ms_nlp\\245\\project\\env\\lib\\site-packages (from gradio==3.43.1) (23.2)\n",
      "Requirement already satisfied: pandas<3.0,>=1.0 in c:\\users\\sujit\\desktop\\ms_nlp\\245\\project\\env\\lib\\site-packages (from gradio==3.43.1) (2.0.3)\n",
      "Requirement already satisfied: pillow<11.0,>=8.0 in c:\\users\\sujit\\desktop\\ms_nlp\\245\\project\\env\\lib\\site-packages (from gradio==3.43.1) (10.2.0)\n",
      "Requirement already satisfied: pydantic!=1.8,!=1.8.1,!=2.0.0,!=2.0.1,<3.0.0,>=1.7.4 in c:\\users\\sujit\\desktop\\ms_nlp\\245\\project\\env\\lib\\site-packages (from gradio==3.43.1) (2.6.4)\n",
      "Requirement already satisfied: pydub in c:\\users\\sujit\\desktop\\ms_nlp\\245\\project\\env\\lib\\site-packages (from gradio==3.43.1) (0.25.1)\n",
      "Requirement already satisfied: python-multipart in c:\\users\\sujit\\desktop\\ms_nlp\\245\\project\\env\\lib\\site-packages (from gradio==3.43.1) (0.0.9)\n",
      "Requirement already satisfied: pyyaml<7.0,>=5.0 in c:\\users\\sujit\\desktop\\ms_nlp\\245\\project\\env\\lib\\site-packages (from gradio==3.43.1) (6.0.1)\n",
      "Requirement already satisfied: requests~=2.0 in c:\\users\\sujit\\desktop\\ms_nlp\\245\\project\\env\\lib\\site-packages (from gradio==3.43.1) (2.31.0)\n",
      "Requirement already satisfied: semantic-version~=2.0 in c:\\users\\sujit\\desktop\\ms_nlp\\245\\project\\env\\lib\\site-packages (from gradio==3.43.1) (2.10.0)\n",
      "Requirement already satisfied: typing-extensions~=4.0 in c:\\users\\sujit\\desktop\\ms_nlp\\245\\project\\env\\lib\\site-packages (from gradio==3.43.1) (4.10.0)\n",
      "Requirement already satisfied: uvicorn>=0.14.0 in c:\\users\\sujit\\desktop\\ms_nlp\\245\\project\\env\\lib\\site-packages (from gradio==3.43.1) (0.28.0)\n",
      "Requirement already satisfied: websockets<12.0,>=10.0 in c:\\users\\sujit\\desktop\\ms_nlp\\245\\project\\env\\lib\\site-packages (from gradio==3.43.1) (11.0.3)\n",
      "Requirement already satisfied: fsspec in c:\\users\\sujit\\desktop\\ms_nlp\\245\\project\\env\\lib\\site-packages (from gradio-client==0.5.0->gradio==3.43.1) (2024.3.0)\n",
      "Requirement already satisfied: jsonschema>=3.0 in c:\\users\\sujit\\desktop\\ms_nlp\\245\\project\\env\\lib\\site-packages (from altair<6.0,>=4.2.0->gradio==3.43.1) (4.21.1)\n",
      "Requirement already satisfied: toolz in c:\\users\\sujit\\desktop\\ms_nlp\\245\\project\\env\\lib\\site-packages (from altair<6.0,>=4.2.0->gradio==3.43.1) (0.12.1)\n",
      "Requirement already satisfied: filelock in c:\\users\\sujit\\desktop\\ms_nlp\\245\\project\\env\\lib\\site-packages (from huggingface-hub>=0.14.0->gradio==3.43.1) (3.13.1)\n",
      "Requirement already satisfied: tqdm>=4.42.1 in c:\\users\\sujit\\desktop\\ms_nlp\\245\\project\\env\\lib\\site-packages (from huggingface-hub>=0.14.0->gradio==3.43.1) (4.66.2)\n",
      "Requirement already satisfied: zipp>=3.1.0 in c:\\users\\sujit\\desktop\\ms_nlp\\245\\project\\env\\lib\\site-packages (from importlib-resources<7.0,>=1.3->gradio==3.43.1) (3.18.1)\n",
      "Requirement already satisfied: contourpy>=1.0.1 in c:\\users\\sujit\\desktop\\ms_nlp\\245\\project\\env\\lib\\site-packages (from matplotlib~=3.0->gradio==3.43.1) (1.1.1)\n",
      "Requirement already satisfied: cycler>=0.10 in c:\\users\\sujit\\desktop\\ms_nlp\\245\\project\\env\\lib\\site-packages (from matplotlib~=3.0->gradio==3.43.1) (0.12.1)\n",
      "Requirement already satisfied: fonttools>=4.22.0 in c:\\users\\sujit\\desktop\\ms_nlp\\245\\project\\env\\lib\\site-packages (from matplotlib~=3.0->gradio==3.43.1) (4.50.0)\n",
      "Requirement already satisfied: kiwisolver>=1.0.1 in c:\\users\\sujit\\desktop\\ms_nlp\\245\\project\\env\\lib\\site-packages (from matplotlib~=3.0->gradio==3.43.1) (1.4.5)\n",
      "Requirement already satisfied: pyparsing>=2.3.1 in c:\\users\\sujit\\desktop\\ms_nlp\\245\\project\\env\\lib\\site-packages (from matplotlib~=3.0->gradio==3.43.1) (3.1.2)\n",
      "Requirement already satisfied: python-dateutil>=2.7 in c:\\users\\sujit\\desktop\\ms_nlp\\245\\project\\env\\lib\\site-packages (from matplotlib~=3.0->gradio==3.43.1) (2.9.0.post0)\n",
      "Requirement already satisfied: pytz>=2020.1 in c:\\users\\sujit\\desktop\\ms_nlp\\245\\project\\env\\lib\\site-packages (from pandas<3.0,>=1.0->gradio==3.43.1) (2024.1)\n",
      "Requirement already satisfied: tzdata>=2022.1 in c:\\users\\sujit\\desktop\\ms_nlp\\245\\project\\env\\lib\\site-packages (from pandas<3.0,>=1.0->gradio==3.43.1) (2024.1)\n",
      "Requirement already satisfied: annotated-types>=0.4.0 in c:\\users\\sujit\\desktop\\ms_nlp\\245\\project\\env\\lib\\site-packages (from pydantic!=1.8,!=1.8.1,!=2.0.0,!=2.0.1,<3.0.0,>=1.7.4->gradio==3.43.1) (0.6.0)\n",
      "Requirement already satisfied: pydantic-core==2.16.3 in c:\\users\\sujit\\desktop\\ms_nlp\\245\\project\\env\\lib\\site-packages (from pydantic!=1.8,!=1.8.1,!=2.0.0,!=2.0.1,<3.0.0,>=1.7.4->gradio==3.43.1) (2.16.3)\n",
      "Requirement already satisfied: charset-normalizer<4,>=2 in c:\\users\\sujit\\desktop\\ms_nlp\\245\\project\\env\\lib\\site-packages (from requests~=2.0->gradio==3.43.1) (3.3.2)\n",
      "Requirement already satisfied: idna<4,>=2.5 in c:\\users\\sujit\\desktop\\ms_nlp\\245\\project\\env\\lib\\site-packages (from requests~=2.0->gradio==3.43.1) (3.6)\n",
      "Requirement already satisfied: urllib3<3,>=1.21.1 in c:\\users\\sujit\\desktop\\ms_nlp\\245\\project\\env\\lib\\site-packages (from requests~=2.0->gradio==3.43.1) (2.2.1)\n",
      "Requirement already satisfied: certifi>=2017.4.17 in c:\\users\\sujit\\desktop\\ms_nlp\\245\\project\\env\\lib\\site-packages (from requests~=2.0->gradio==3.43.1) (2024.2.2)\n",
      "Requirement already satisfied: click>=7.0 in c:\\users\\sujit\\desktop\\ms_nlp\\245\\project\\env\\lib\\site-packages (from uvicorn>=0.14.0->gradio==3.43.1) (8.1.7)\n",
      "Requirement already satisfied: h11>=0.8 in c:\\users\\sujit\\desktop\\ms_nlp\\245\\project\\env\\lib\\site-packages (from uvicorn>=0.14.0->gradio==3.43.1) (0.14.0)\n",
      "Requirement already satisfied: starlette<0.37.0,>=0.36.3 in c:\\users\\sujit\\desktop\\ms_nlp\\245\\project\\env\\lib\\site-packages (from fastapi->gradio==3.43.1) (0.36.3)\n",
      "Requirement already satisfied: anyio in c:\\users\\sujit\\desktop\\ms_nlp\\245\\project\\env\\lib\\site-packages (from httpx->gradio==3.43.1) (4.3.0)\n",
      "Requirement already satisfied: httpcore==1.* in c:\\users\\sujit\\desktop\\ms_nlp\\245\\project\\env\\lib\\site-packages (from httpx->gradio==3.43.1) (1.0.4)\n",
      "Requirement already satisfied: sniffio in c:\\users\\sujit\\desktop\\ms_nlp\\245\\project\\env\\lib\\site-packages (from httpx->gradio==3.43.1) (1.3.1)\n",
      "Requirement already satisfied: colorama in c:\\users\\sujit\\desktop\\ms_nlp\\245\\project\\env\\lib\\site-packages (from click>=7.0->uvicorn>=0.14.0->gradio==3.43.1) (0.4.6)\n",
      "Requirement already satisfied: attrs>=22.2.0 in c:\\users\\sujit\\desktop\\ms_nlp\\245\\project\\env\\lib\\site-packages (from jsonschema>=3.0->altair<6.0,>=4.2.0->gradio==3.43.1) (23.2.0)\n",
      "Requirement already satisfied: jsonschema-specifications>=2023.03.6 in c:\\users\\sujit\\desktop\\ms_nlp\\245\\project\\env\\lib\\site-packages (from jsonschema>=3.0->altair<6.0,>=4.2.0->gradio==3.43.1) (2023.12.1)\n",
      "Requirement already satisfied: pkgutil-resolve-name>=1.3.10 in c:\\users\\sujit\\desktop\\ms_nlp\\245\\project\\env\\lib\\site-packages (from jsonschema>=3.0->altair<6.0,>=4.2.0->gradio==3.43.1) (1.3.10)\n",
      "Requirement already satisfied: referencing>=0.28.4 in c:\\users\\sujit\\desktop\\ms_nlp\\245\\project\\env\\lib\\site-packages (from jsonschema>=3.0->altair<6.0,>=4.2.0->gradio==3.43.1) (0.34.0)\n",
      "Requirement already satisfied: rpds-py>=0.7.1 in c:\\users\\sujit\\desktop\\ms_nlp\\245\\project\\env\\lib\\site-packages (from jsonschema>=3.0->altair<6.0,>=4.2.0->gradio==3.43.1) (0.18.0)\n",
      "Requirement already satisfied: six>=1.5 in c:\\users\\sujit\\desktop\\ms_nlp\\245\\project\\env\\lib\\site-packages (from python-dateutil>=2.7->matplotlib~=3.0->gradio==3.43.1) (1.16.0)\n",
      "Requirement already satisfied: exceptiongroup>=1.0.2 in c:\\users\\sujit\\desktop\\ms_nlp\\245\\project\\env\\lib\\site-packages (from anyio->httpx->gradio==3.43.1) (1.2.0)\n",
      "Downloading gradio-3.43.1-py3-none-any.whl (20.1 MB)\n",
      "   ---------------------------------------- 0.0/20.1 MB ? eta -:--:--\n",
      "    --------------------------------------- 0.4/20.1 MB 8.7 MB/s eta 0:00:03\n",
      "   -- ------------------------------------- 1.0/20.1 MB 13.3 MB/s eta 0:00:02\n",
      "   -- ------------------------------------- 1.2/20.1 MB 8.6 MB/s eta 0:00:03\n",
      "   ---- ----------------------------------- 2.1/20.1 MB 12.2 MB/s eta 0:00:02\n",
      "   ---- ----------------------------------- 2.1/20.1 MB 12.2 MB/s eta 0:00:02\n",
      "   ---- ----------------------------------- 2.1/20.1 MB 12.2 MB/s eta 0:00:02\n",
      "   ----- ---------------------------------- 2.8/20.1 MB 8.4 MB/s eta 0:00:03\n",
      "   ------ --------------------------------- 3.1/20.1 MB 9.1 MB/s eta 0:00:02\n",
      "   ------ --------------------------------- 3.1/20.1 MB 9.1 MB/s eta 0:00:02\n",
      "   -------- ------------------------------- 4.2/20.1 MB 8.9 MB/s eta 0:00:02\n",
      "   -------- ------------------------------- 4.2/20.1 MB 8.9 MB/s eta 0:00:02\n",
      "   ---------- ----------------------------- 5.2/20.1 MB 9.3 MB/s eta 0:00:02\n",
      "   ---------- ----------------------------- 5.2/20.1 MB 9.3 MB/s eta 0:00:02\n",
      "   ------------ --------------------------- 6.3/20.1 MB 9.6 MB/s eta 0:00:02\n",
      "   ------------ --------------------------- 6.3/20.1 MB 9.6 MB/s eta 0:00:02\n",
      "   -------------- ------------------------- 7.3/20.1 MB 9.8 MB/s eta 0:00:02\n",
      "   -------------- ------------------------- 7.3/20.1 MB 9.8 MB/s eta 0:00:02\n",
      "   ---------------- ----------------------- 8.4/20.1 MB 9.8 MB/s eta 0:00:02\n",
      "   ---------------- ----------------------- 8.4/20.1 MB 9.8 MB/s eta 0:00:02\n",
      "   ------------------ --------------------- 9.4/20.1 MB 10.1 MB/s eta 0:00:02\n",
      "   ------------------ --------------------- 9.4/20.1 MB 10.1 MB/s eta 0:00:02\n",
      "   -------------------- ------------------- 10.5/20.1 MB 10.4 MB/s eta 0:00:01\n",
      "   -------------------- ------------------- 10.5/20.1 MB 10.4 MB/s eta 0:00:01\n",
      "   ---------------------- ----------------- 11.4/20.1 MB 10.2 MB/s eta 0:00:01\n",
      "   ---------------------- ----------------- 11.5/20.1 MB 10.2 MB/s eta 0:00:01\n",
      "   ------------------------ --------------- 12.5/20.1 MB 11.1 MB/s eta 0:00:01\n",
      "   -------------------------- ------------- 13.2/20.1 MB 10.9 MB/s eta 0:00:01\n",
      "   --------------------------- ------------ 13.6/20.1 MB 12.1 MB/s eta 0:00:01\n",
      "   --------------------------- ------------ 13.6/20.1 MB 12.1 MB/s eta 0:00:01\n",
      "   --------------------------- ------------ 13.8/20.1 MB 10.7 MB/s eta 0:00:01\n",
      "   ----------------------------- ---------- 14.7/20.1 MB 11.5 MB/s eta 0:00:01\n",
      "   ----------------------------- ---------- 14.7/20.1 MB 11.5 MB/s eta 0:00:01\n",
      "   ------------------------------- -------- 15.7/20.1 MB 11.3 MB/s eta 0:00:01\n",
      "   -------------------------------- ------- 16.5/20.1 MB 11.3 MB/s eta 0:00:01\n",
      "   --------------------------------- ------ 16.8/20.1 MB 11.5 MB/s eta 0:00:01\n",
      "   ----------------------------------- ---- 17.8/20.1 MB 11.3 MB/s eta 0:00:01\n",
      "   ----------------------------------- ---- 17.8/20.1 MB 11.3 MB/s eta 0:00:01\n",
      "   ------------------------------------- -- 18.9/20.1 MB 11.3 MB/s eta 0:00:01\n",
      "   ------------------------------------- -- 18.9/20.1 MB 11.3 MB/s eta 0:00:01\n",
      "   ---------------------------------------  19.9/20.1 MB 11.3 MB/s eta 0:00:01\n",
      "   ---------------------------------------  20.1/20.1 MB 10.7 MB/s eta 0:00:01\n",
      "   ---------------------------------------- 20.1/20.1 MB 10.4 MB/s eta 0:00:00\n",
      "Downloading gradio_client-0.5.0-py3-none-any.whl (298 kB)\n",
      "   ---------------------------------------- 0.0/298.2 kB ? eta -:--:--\n",
      "   ---------------------------------------- 298.2/298.2 kB 9.3 MB/s eta 0:00:00\n",
      "Installing collected packages: gradio-client, gradio\n",
      "  Attempting uninstall: gradio-client\n",
      "    Found existing installation: gradio_client 0.6.1\n",
      "    Uninstalling gradio_client-0.6.1:\n",
      "      Successfully uninstalled gradio_client-0.6.1\n",
      "  Attempting uninstall: gradio\n",
      "    Found existing installation: gradio 3.50.0\n",
      "    Uninstalling gradio-3.50.0:\n",
      "      Successfully uninstalled gradio-3.50.0\n",
      "Successfully installed gradio-3.43.1 gradio-client-0.5.0\n"
     ]
    },
    {
     "name": "stderr",
     "output_type": "stream",
     "text": [
      "\n",
      "[notice] A new release of pip is available: 23.3.1 -> 24.0\n",
      "[notice] To update, run: python.exe -m pip install --upgrade pip\n"
     ]
    }
   ],
   "source": [
    "!pip install gradio==3.43.1"
   ]
  },
  {
   "cell_type": "code",
   "execution_count": 1,
   "id": "7946059d-9922-4c1c-8d7c-c194a0dd77dd",
   "metadata": {},
   "outputs": [],
   "source": [
    "# Ensure you take care of imports, setting your OpenAI key, etc.\n",
    "#%%capture\n",
    "\n",
    "import os\n",
    "import getpass\n",
    "from prompter_245 import prompt\n",
    "\n",
    "#os.environ[\"OPENAI_API_KEY\"] = getpass.getpass(\"\")\n",
    "\n",
    "from langchain.agents import Tool, AgentType, initialize_agent\n",
    "from langchain.memory import ConversationBufferMemory\n",
    "from langchain.chat_models import ChatOpenAI \n",
    "from langchain.utilities import DuckDuckGoSearchAPIWrapper\n",
    "from langchain.agents import AgentExecutor\n",
    "from langchain import hub\n",
    "from langchain.agents.format_scratchpad import format_log_to_str\n",
    "from langchain.agents.output_parsers import ReActSingleInputOutputParser\n",
    "from langchain.tools.render import render_text_description\n",
    "import gradio as gr\n"
   ]
  },
  {
   "cell_type": "code",
   "execution_count": 2,
   "id": "8c5dbc9d-b93c-45b4-95a7-1782f873debe",
   "metadata": {
    "scrolled": true
   },
   "outputs": [
    {
     "name": "stderr",
     "output_type": "stream",
     "text": [
      "C:\\Users\\sujit\\Desktop\\ms_nlp\\245\\project\\env\\lib\\site-packages\\langchain_core\\_api\\deprecation.py:117: LangChainDeprecationWarning: The class `langchain_community.chat_models.openai.ChatOpenAI` was deprecated in langchain-community 0.0.10 and will be removed in 0.2.0. An updated version of the class exists in the langchain-openai package and should be used instead. To use it run `pip install -U langchain-openai` and import as `from langchain_openai import ChatOpenAI`.\n",
      "  warn_deprecated(\n"
     ]
    },
    {
     "name": "stdout",
     "output_type": "stream",
     "text": [
      "llm initialized\n",
      "\n",
      "\n",
      "\u001b[1m> Entering new AgentExecutor chain...\u001b[0m\n"
     ]
    },
    {
     "name": "stderr",
     "output_type": "stream",
     "text": [
      "C:\\Users\\sujit\\Desktop\\ms_nlp\\245\\project\\env\\lib\\site-packages\\langchain_core\\_api\\deprecation.py:117: LangChainDeprecationWarning: The function `initialize_agent` was deprecated in LangChain 0.1.0 and will be removed in 0.2.0. Use Use new agent constructor methods like create_react_agent, create_json_agent, create_structured_chat_agent, etc. instead.\n",
      "  warn_deprecated(\n",
      "C:\\Users\\sujit\\Desktop\\ms_nlp\\245\\project\\env\\lib\\site-packages\\langchain_core\\_api\\deprecation.py:117: LangChainDeprecationWarning: The function `run` was deprecated in LangChain 0.1.0 and will be removed in 0.2.0. Use invoke instead.\n",
      "  warn_deprecated(\n"
     ]
    },
    {
     "name": "stdout",
     "output_type": "stream",
     "text": [
      "\u001b[32;1m\u001b[1;3mThought: Do I need to use a tool? No\n",
      "AI: What's up! How can I assist you today?\u001b[0m\n",
      "\n",
      "\u001b[1m> Finished chain.\u001b[0m\n"
     ]
    }
   ],
   "source": [
    "# Create toolkit\n",
    "search = DuckDuckGoSearchAPIWrapper()\n",
    "\n",
    "search_tool = Tool(name=\"Current Search\",\n",
    "                   func=search.run,\n",
    "                   description=\"Useful when you need to answer questions about current events or the current state of the world.\"\n",
    "                   )\n",
    "\n",
    "\n",
    "\n",
    "\n",
    "tools = [search_tool]\n",
    "\n",
    "# Set up memory\n",
    "memory = ConversationBufferMemory(memory_key=\"chat_history\")\n",
    "\n",
    "# Initialize LLM\n",
    "llm = ChatOpenAI(model = \"gpt-3.5-turbo\", temperature=0, openai_api_key=\"\" )\n",
    "print('llm initialized')\n",
    "\n",
    "# Initialize agent\n",
    "agent_chain = initialize_agent(tools,\n",
    "                               llm,\n",
    "                               agent=AgentType.CONVERSATIONAL_REACT_DESCRIPTION,\n",
    "                               memory=memory,\n",
    "                               verbose=True)\n",
    "\n",
    "# Run queries\n",
    "# Here is an example query:\n",
    "agent_chain.run(input=\"What it do, nephew!\")\n",
    "agent_prompt = hub.pull(\"hwchase17/react-chat\")\n",
    "\n",
    "# Setting up an agent using LCEL\n",
    "prompt = agent_prompt.partial(\n",
    "    tools=render_text_description(tools),\n",
    "    tool_names=\", \".join([t.name for t in tools]),\n",
    ")\n",
    "llm_with_stop = llm.bind(stop=[\"\\nObservation\"])\n",
    "\n",
    "# Set up the agent using LCEL\n",
    "agent = (\n",
    "    {\n",
    "        \"input\": lambda x: x[\"input\"],\n",
    "        \"agent_scratchpad\": lambda x: format_log_to_str(x[\"intermediate_steps\"]),\n",
    "        \"chat_history\": lambda x: x[\"chat_history\"],\n",
    "    }\n",
    "    | prompt\n",
    "    | llm_with_stop\n",
    "    | ReActSingleInputOutputParser()\n",
    ")\n",
    "\n",
    "memory = ConversationBufferMemory(memory_key=\"chat_history\")\n",
    "\n",
    "agent_executor = AgentExecutor(agent=agent, tools=tools, verbose=True, memory=memory)\n",
    "\n",
    "# # Here are some example queries:\n",
    "# agent_executor.invoke({\"input\": \"What's the forecast for snow looking like in Winnipeg today?\"})[\"output\"]\n",
    "# agent_executor.invoke({\"input\": \"What did I just ask you about?\"})[\"output\"]\n",
    "# agent_executor.invoke({\"input\": \"Will it look like a white Christmas there?\"})[\"output\"]\n"
   ]
  },
  {
   "cell_type": "code",
   "execution_count": null,
   "id": "bbc7b4a3-e21e-41f6-8305-1e48a46eef0f",
   "metadata": {},
   "outputs": [],
   "source": []
  },
  {
   "cell_type": "code",
   "execution_count": 3,
   "id": "1b7b386c-bb2b-4ea3-8ff2-18d6d13ee933",
   "metadata": {},
   "outputs": [
    {
     "name": "stdout",
     "output_type": "stream",
     "text": [
      "\n",
      "\n",
      "\u001b[1m> Entering new AgentExecutor chain...\u001b[0m\n",
      "\u001b[32;1m\u001b[1;3mThought: Do I need to use a tool? Yes\n",
      "Action: Current Search\n",
      "Action Input: Speed of light\u001b[0m\u001b[36;1m\u001b[1;3mThe speed of light in vacuum, commonly denoted c, is a universal physical constant that is exactly equal to 299,792,458 metres per second (approximately 300,000 kilometres per second; 186,000 miles per second; 671 million miles per hour). [Note 3] According to the special theory of relativity, c is the upper limit for the speed at which ... The speed of light traveling through a vacuum is exactly 299,792,458 meters (983,571,056 feet) per second. That's about 186,282 miles per second — a universal constant known in equations as \"c ... Speed of light, speed at which light waves propagate through different materials. In a vacuum, the speed of light is 299,792,458 meters per second. The speed of light is considered a fundamental constant of nature. Its significance is far broader than its role in describing a property of electromagnetic waves. The speed of light is 299,792,458 meters per second and that constant tells us much about cause and effect in the universe. So, what is the speed of light? Light moves at an incredible 186,000 miles per second (300,000 kilometers per second), equivalent to almost 700 million mph (more than 1 billion km/h). That's fast ...\u001b[0m\u001b[32;1m\u001b[1;3mDo I need to use a tool? No\n",
      "Final Answer: The speed of light in a vacuum is approximately 299,792,458 meters per second, which is about 186,282 miles per second.\u001b[0m\n",
      "\n",
      "\u001b[1m> Finished chain.\u001b[0m\n"
     ]
    },
    {
     "data": {
      "text/plain": [
       "'The speed of light in a vacuum is approximately 299,792,458 meters per second, which is about 186,282 miles per second.'"
      ]
     },
     "execution_count": 3,
     "metadata": {},
     "output_type": "execute_result"
    }
   ],
   "source": [
    "agent_executor.invoke({\"input\": \"What is the speed of light?\"})[\"output\"]\n"
   ]
  },
  {
   "cell_type": "code",
   "execution_count": 7,
   "id": "0162339e-045d-4a58-8783-ed78cc43631c",
   "metadata": {},
   "outputs": [
    {
     "name": "stdout",
     "output_type": "stream",
     "text": [
      "Running on local URL:  http://127.0.0.1:7862\n",
      "\n",
      "To create a public link, set `share=True` in `launch()`.\n"
     ]
    },
    {
     "data": {
      "text/html": [
       "<div><iframe src=\"http://127.0.0.1:7862/\" width=\"100%\" height=\"500\" allow=\"autoplay; camera; microphone; clipboard-read; clipboard-write;\" frameborder=\"0\" allowfullscreen></iframe></div>"
      ],
      "text/plain": [
       "<IPython.core.display.HTML object>"
      ]
     },
     "metadata": {},
     "output_type": "display_data"
    },
    {
     "data": {
      "text/plain": []
     },
     "execution_count": 7,
     "metadata": {},
     "output_type": "execute_result"
    },
    {
     "name": "stdout",
     "output_type": "stream",
     "text": [
      "\n",
      "\n",
      "\u001b[1m> Entering new AgentExecutor chain...\u001b[0m\n",
      "\u001b[32;1m\u001b[1;3mThought: Do I need to use a tool? Yes\n",
      "Action: Current Search\n",
      "Action Input: What is the speed of light\u001b[0m"
     ]
    },
    {
     "name": "stderr",
     "output_type": "stream",
     "text": [
      "Traceback (most recent call last):\n",
      "  File \"C:\\Users\\sujit\\Desktop\\ms_nlp\\245\\project\\env\\lib\\site-packages\\gradio\\routes.py\", line 507, in predict\n",
      "    output = await route_utils.call_process_api(\n",
      "  File \"C:\\Users\\sujit\\Desktop\\ms_nlp\\245\\project\\env\\lib\\site-packages\\gradio\\route_utils.py\", line 219, in call_process_api\n",
      "    output = await app.get_blocks().process_api(\n",
      "  File \"C:\\Users\\sujit\\Desktop\\ms_nlp\\245\\project\\env\\lib\\site-packages\\gradio\\blocks.py\", line 1437, in process_api\n",
      "    result = await self.call_function(\n",
      "  File \"C:\\Users\\sujit\\Desktop\\ms_nlp\\245\\project\\env\\lib\\site-packages\\gradio\\blocks.py\", line 1109, in call_function\n",
      "    prediction = await anyio.to_thread.run_sync(\n",
      "  File \"C:\\Users\\sujit\\Desktop\\ms_nlp\\245\\project\\env\\lib\\site-packages\\anyio\\to_thread.py\", line 56, in run_sync\n",
      "    return await get_async_backend().run_sync_in_worker_thread(\n",
      "  File \"C:\\Users\\sujit\\Desktop\\ms_nlp\\245\\project\\env\\lib\\site-packages\\anyio\\_backends\\_asyncio.py\", line 2144, in run_sync_in_worker_thread\n",
      "    return await future\n",
      "  File \"C:\\Users\\sujit\\Desktop\\ms_nlp\\245\\project\\env\\lib\\site-packages\\anyio\\_backends\\_asyncio.py\", line 851, in run\n",
      "    result = context.run(func, *args)\n",
      "  File \"C:\\Users\\sujit\\Desktop\\ms_nlp\\245\\project\\env\\lib\\site-packages\\gradio\\utils.py\", line 641, in wrapper\n",
      "    response = f(*args, **kwargs)\n",
      "  File \"C:\\Users\\sujit\\AppData\\Local\\Temp\\ipykernel_19116\\3941828979.py\", line 10, in interact_with_agent\n",
      "    return self.agent_executor.invoke(payload)[\"output\"]\n",
      "  File \"C:\\Users\\sujit\\Desktop\\ms_nlp\\245\\project\\env\\lib\\site-packages\\langchain\\chains\\base.py\", line 163, in invoke\n",
      "    raise e\n",
      "  File \"C:\\Users\\sujit\\Desktop\\ms_nlp\\245\\project\\env\\lib\\site-packages\\langchain\\chains\\base.py\", line 153, in invoke\n",
      "    self._call(inputs, run_manager=run_manager)\n",
      "  File \"C:\\Users\\sujit\\Desktop\\ms_nlp\\245\\project\\env\\lib\\site-packages\\langchain\\agents\\agent.py\", line 1432, in _call\n",
      "    next_step_output = self._take_next_step(\n",
      "  File \"C:\\Users\\sujit\\Desktop\\ms_nlp\\245\\project\\env\\lib\\site-packages\\langchain\\agents\\agent.py\", line 1138, in _take_next_step\n",
      "    [\n",
      "  File \"C:\\Users\\sujit\\Desktop\\ms_nlp\\245\\project\\env\\lib\\site-packages\\langchain\\agents\\agent.py\", line 1138, in <listcomp>\n",
      "    [\n",
      "  File \"C:\\Users\\sujit\\Desktop\\ms_nlp\\245\\project\\env\\lib\\site-packages\\langchain\\agents\\agent.py\", line 1223, in _iter_next_step\n",
      "    yield self._perform_agent_action(\n",
      "  File \"C:\\Users\\sujit\\Desktop\\ms_nlp\\245\\project\\env\\lib\\site-packages\\langchain\\agents\\agent.py\", line 1245, in _perform_agent_action\n",
      "    observation = tool.run(\n",
      "  File \"C:\\Users\\sujit\\Desktop\\ms_nlp\\245\\project\\env\\lib\\site-packages\\langchain_core\\tools.py\", line 417, in run\n",
      "    raise e\n",
      "  File \"C:\\Users\\sujit\\Desktop\\ms_nlp\\245\\project\\env\\lib\\site-packages\\langchain_core\\tools.py\", line 376, in run\n",
      "    self._run(*tool_args, run_manager=run_manager, **tool_kwargs)\n",
      "  File \"C:\\Users\\sujit\\Desktop\\ms_nlp\\245\\project\\env\\lib\\site-packages\\langchain_core\\tools.py\", line 580, in _run\n",
      "    else self.func(*args, **kwargs)\n",
      "  File \"C:\\Users\\sujit\\Desktop\\ms_nlp\\245\\project\\env\\lib\\site-packages\\langchain_community\\utilities\\duckduckgo_search.py\", line 81, in run\n",
      "    results = self._ddgs_text(query)\n",
      "  File \"C:\\Users\\sujit\\Desktop\\ms_nlp\\245\\project\\env\\lib\\site-packages\\langchain_community\\utilities\\duckduckgo_search.py\", line 47, in _ddgs_text\n",
      "    with DDGS() as ddgs:\n",
      "  File \"C:\\Users\\sujit\\Desktop\\ms_nlp\\245\\project\\env\\lib\\site-packages\\duckduckgo_search\\duckduckgo_search.py\", line 20, in __init__\n",
      "    super().__init__(headers=headers, proxies=proxies, timeout=timeout)\n",
      "  File \"C:\\Users\\sujit\\Desktop\\ms_nlp\\245\\project\\env\\lib\\site-packages\\duckduckgo_search\\duckduckgo_search_async.py\", line 51, in __init__\n",
      "    self._asession = requests.AsyncSession(\n",
      "  File \"C:\\Users\\sujit\\Desktop\\ms_nlp\\245\\project\\env\\lib\\site-packages\\curl_cffi\\requests\\session.py\", line 915, in __init__\n",
      "    self.init_pool()\n",
      "  File \"C:\\Users\\sujit\\Desktop\\ms_nlp\\245\\project\\env\\lib\\site-packages\\curl_cffi\\requests\\session.py\", line 930, in init_pool\n",
      "    self.pool = asyncio.LifoQueue(self.max_clients)\n",
      "  File \"C:\\Users\\sujit\\AppData\\Local\\Programs\\Python\\Python38\\lib\\asyncio\\queues.py\", line 35, in __init__\n",
      "    self._loop = events.get_event_loop()\n",
      "  File \"C:\\Users\\sujit\\AppData\\Local\\Programs\\Python\\Python38\\lib\\asyncio\\events.py\", line 639, in get_event_loop\n",
      "    raise RuntimeError('There is no current event loop in thread %r.'\n",
      "RuntimeError: There is no current event loop in thread 'AnyIO worker thread'.\n"
     ]
    },
    {
     "name": "stdout",
     "output_type": "stream",
     "text": [
      "\n",
      "\n",
      "\u001b[1m> Entering new AgentExecutor chain...\u001b[0m\n",
      "\u001b[32;1m\u001b[1;3mThought: Do I need to use a tool? Yes\n",
      "Action: Current Search\n",
      "Action Input: res\u001b[0m"
     ]
    },
    {
     "name": "stderr",
     "output_type": "stream",
     "text": [
      "Traceback (most recent call last):\n",
      "  File \"C:\\Users\\sujit\\Desktop\\ms_nlp\\245\\project\\env\\lib\\site-packages\\gradio\\routes.py\", line 507, in predict\n",
      "    output = await route_utils.call_process_api(\n",
      "  File \"C:\\Users\\sujit\\Desktop\\ms_nlp\\245\\project\\env\\lib\\site-packages\\gradio\\route_utils.py\", line 219, in call_process_api\n",
      "    output = await app.get_blocks().process_api(\n",
      "  File \"C:\\Users\\sujit\\Desktop\\ms_nlp\\245\\project\\env\\lib\\site-packages\\gradio\\blocks.py\", line 1437, in process_api\n",
      "    result = await self.call_function(\n",
      "  File \"C:\\Users\\sujit\\Desktop\\ms_nlp\\245\\project\\env\\lib\\site-packages\\gradio\\blocks.py\", line 1109, in call_function\n",
      "    prediction = await anyio.to_thread.run_sync(\n",
      "  File \"C:\\Users\\sujit\\Desktop\\ms_nlp\\245\\project\\env\\lib\\site-packages\\anyio\\to_thread.py\", line 56, in run_sync\n",
      "    return await get_async_backend().run_sync_in_worker_thread(\n",
      "  File \"C:\\Users\\sujit\\Desktop\\ms_nlp\\245\\project\\env\\lib\\site-packages\\anyio\\_backends\\_asyncio.py\", line 2144, in run_sync_in_worker_thread\n",
      "    return await future\n",
      "  File \"C:\\Users\\sujit\\Desktop\\ms_nlp\\245\\project\\env\\lib\\site-packages\\anyio\\_backends\\_asyncio.py\", line 851, in run\n",
      "    result = context.run(func, *args)\n",
      "  File \"C:\\Users\\sujit\\Desktop\\ms_nlp\\245\\project\\env\\lib\\site-packages\\gradio\\utils.py\", line 641, in wrapper\n",
      "    response = f(*args, **kwargs)\n",
      "  File \"C:\\Users\\sujit\\AppData\\Local\\Temp\\ipykernel_19116\\3941828979.py\", line 10, in interact_with_agent\n",
      "    return self.agent_executor.invoke(payload)[\"output\"]\n",
      "  File \"C:\\Users\\sujit\\Desktop\\ms_nlp\\245\\project\\env\\lib\\site-packages\\langchain\\chains\\base.py\", line 163, in invoke\n",
      "    raise e\n",
      "  File \"C:\\Users\\sujit\\Desktop\\ms_nlp\\245\\project\\env\\lib\\site-packages\\langchain\\chains\\base.py\", line 153, in invoke\n",
      "    self._call(inputs, run_manager=run_manager)\n",
      "  File \"C:\\Users\\sujit\\Desktop\\ms_nlp\\245\\project\\env\\lib\\site-packages\\langchain\\agents\\agent.py\", line 1432, in _call\n",
      "    next_step_output = self._take_next_step(\n",
      "  File \"C:\\Users\\sujit\\Desktop\\ms_nlp\\245\\project\\env\\lib\\site-packages\\langchain\\agents\\agent.py\", line 1138, in _take_next_step\n",
      "    [\n",
      "  File \"C:\\Users\\sujit\\Desktop\\ms_nlp\\245\\project\\env\\lib\\site-packages\\langchain\\agents\\agent.py\", line 1138, in <listcomp>\n",
      "    [\n",
      "  File \"C:\\Users\\sujit\\Desktop\\ms_nlp\\245\\project\\env\\lib\\site-packages\\langchain\\agents\\agent.py\", line 1223, in _iter_next_step\n",
      "    yield self._perform_agent_action(\n",
      "  File \"C:\\Users\\sujit\\Desktop\\ms_nlp\\245\\project\\env\\lib\\site-packages\\langchain\\agents\\agent.py\", line 1245, in _perform_agent_action\n",
      "    observation = tool.run(\n",
      "  File \"C:\\Users\\sujit\\Desktop\\ms_nlp\\245\\project\\env\\lib\\site-packages\\langchain_core\\tools.py\", line 417, in run\n",
      "    raise e\n",
      "  File \"C:\\Users\\sujit\\Desktop\\ms_nlp\\245\\project\\env\\lib\\site-packages\\langchain_core\\tools.py\", line 376, in run\n",
      "    self._run(*tool_args, run_manager=run_manager, **tool_kwargs)\n",
      "  File \"C:\\Users\\sujit\\Desktop\\ms_nlp\\245\\project\\env\\lib\\site-packages\\langchain_core\\tools.py\", line 580, in _run\n",
      "    else self.func(*args, **kwargs)\n",
      "  File \"C:\\Users\\sujit\\Desktop\\ms_nlp\\245\\project\\env\\lib\\site-packages\\langchain_community\\utilities\\duckduckgo_search.py\", line 81, in run\n",
      "    results = self._ddgs_text(query)\n",
      "  File \"C:\\Users\\sujit\\Desktop\\ms_nlp\\245\\project\\env\\lib\\site-packages\\langchain_community\\utilities\\duckduckgo_search.py\", line 47, in _ddgs_text\n",
      "    with DDGS() as ddgs:\n",
      "  File \"C:\\Users\\sujit\\Desktop\\ms_nlp\\245\\project\\env\\lib\\site-packages\\duckduckgo_search\\duckduckgo_search.py\", line 20, in __init__\n",
      "    super().__init__(headers=headers, proxies=proxies, timeout=timeout)\n",
      "  File \"C:\\Users\\sujit\\Desktop\\ms_nlp\\245\\project\\env\\lib\\site-packages\\duckduckgo_search\\duckduckgo_search_async.py\", line 51, in __init__\n",
      "    self._asession = requests.AsyncSession(\n",
      "  File \"C:\\Users\\sujit\\Desktop\\ms_nlp\\245\\project\\env\\lib\\site-packages\\curl_cffi\\requests\\session.py\", line 915, in __init__\n",
      "    self.init_pool()\n",
      "  File \"C:\\Users\\sujit\\Desktop\\ms_nlp\\245\\project\\env\\lib\\site-packages\\curl_cffi\\requests\\session.py\", line 930, in init_pool\n",
      "    self.pool = asyncio.LifoQueue(self.max_clients)\n",
      "  File \"C:\\Users\\sujit\\AppData\\Local\\Programs\\Python\\Python38\\lib\\asyncio\\queues.py\", line 35, in __init__\n",
      "    self._loop = events.get_event_loop()\n",
      "  File \"C:\\Users\\sujit\\AppData\\Local\\Programs\\Python\\Python38\\lib\\asyncio\\events.py\", line 639, in get_event_loop\n",
      "    raise RuntimeError('There is no current event loop in thread %r.'\n",
      "RuntimeError: There is no current event loop in thread 'AnyIO worker thread'.\n"
     ]
    }
   ],
   "source": [
    "class AgentExecutorInterface(gr.Interface):\n",
    "    def __init__(self, agent_executor, title=None, description=None):\n",
    "        inputs = gr.Textbox(lines=5, label=\"Enter your text here\")\n",
    "        outputs = gr.Textbox(label=\"Response will appear here\")\n",
    "        super().__init__(self.interact_with_agent, inputs=inputs, outputs=outputs, title=title, description=description)\n",
    "        self.agent_executor = agent_executor\n",
    "\n",
    "    def interact_with_agent(self, input_text):\n",
    "        payload = {\"input\": input_text}\n",
    "        return self.agent_executor.invoke(payload)[\"output\"]\n",
    " \n",
    "# Example usage\n",
    "agent_executor_url = \"YOUR_AGENT_EXECUTOR_ENDPOINT\"  # Replace this with your agent executor endpoint\n",
    "agent_interface = AgentExecutorInterface(agent_executor, title=\"Agent Executor\", description=\"Interact with the agent executor using this interface\")\n",
    "agent_interface.launch()"
   ]
  },
  {
   "cell_type": "code",
   "execution_count": null,
   "id": "1948ad20-6f18-4450-a12e-a456e2f7dc30",
   "metadata": {},
   "outputs": [],
   "source": []
  }
 ],
 "metadata": {
  "kernelspec": {
   "display_name": "Python 3 (ipykernel)",
   "language": "python",
   "name": "python3"
  },
  "language_info": {
   "codemirror_mode": {
    "name": "ipython",
    "version": 3
   },
   "file_extension": ".py",
   "mimetype": "text/x-python",
   "name": "python",
   "nbconvert_exporter": "python",
   "pygments_lexer": "ipython3",
   "version": "3.8.5"
  }
 },
 "nbformat": 4,
 "nbformat_minor": 5
}
